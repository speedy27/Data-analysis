{
 "cells": [
  {
   "cell_type": "markdown",
   "id": "232d9205",
   "metadata": {},
   "source": [
    "# Projet d'Analyse de Données — DatasetComp.xlsx"
   ]
  },
  {
   "cell_type": "code",
   "execution_count": 19,
   "id": "8b950743",
   "metadata": {},
   "outputs": [],
   "source": [
    "\n",
    "# Imports\n",
    "import pandas as pd\n",
    "import numpy as np\n",
    "import matplotlib.pyplot as plt\n",
    "import seaborn as sns\n",
    "from sklearn.preprocessing import StandardScaler\n",
    "from sklearn.decomposition import PCA\n",
    "from sklearn.model_selection import train_test_split\n",
    "from sklearn.svm import SVC\n",
    "from sklearn.ensemble import RandomForestClassifier\n",
    "from sklearn.metrics import accuracy_score, classification_report\n",
    "sns.set_style(\"whitegrid\")\n",
    "plt.rcParams['figure.figsize'] = (8,5)\n"
   ]
  },
  {
   "cell_type": "code",
   "execution_count": 34,
   "id": "1d6d92db",
   "metadata": {},
   "outputs": [],
   "source": [
    "\n",
    "df = pd.read_csv('datasetComp.csv', sep=';')\n"
   ]
  },
  {
   "cell_type": "markdown",
   "id": "631afb3c",
   "metadata": {},
   "source": [
    "# -------------------------------------------\n",
    "# 3. Exploratory Data Analysis (EDA)\n",
    "# ------------------------------------------"
   ]
  },
  {
   "cell_type": "code",
   "execution_count": 35,
   "id": "37fbac1c",
   "metadata": {},
   "outputs": [
    {
     "name": "stdout",
     "output_type": "stream",
     "text": [
      "Dimensions : (1262, 6)\n",
      "Indicator      object\n",
      "Year          float64\n",
      "Region         object\n",
      "Zone           object\n",
      "Percentage     object\n",
      "Real          float64\n",
      "dtype: object\n"
     ]
    },
    {
     "data": {
      "text/html": [
       "<div>\n",
       "<style scoped>\n",
       "    .dataframe tbody tr th:only-of-type {\n",
       "        vertical-align: middle;\n",
       "    }\n",
       "\n",
       "    .dataframe tbody tr th {\n",
       "        vertical-align: top;\n",
       "    }\n",
       "\n",
       "    .dataframe thead th {\n",
       "        text-align: right;\n",
       "    }\n",
       "</style>\n",
       "<table border=\"1\" class=\"dataframe\">\n",
       "  <thead>\n",
       "    <tr style=\"text-align: right;\">\n",
       "      <th></th>\n",
       "      <th>Indicator</th>\n",
       "      <th>Year</th>\n",
       "      <th>Region</th>\n",
       "      <th>Zone</th>\n",
       "      <th>Percentage</th>\n",
       "      <th>Real</th>\n",
       "    </tr>\n",
       "  </thead>\n",
       "  <tbody>\n",
       "    <tr>\n",
       "      <th>0</th>\n",
       "      <td>Population covered by a mobile-cellular networ...</td>\n",
       "      <td>2015.0</td>\n",
       "      <td>World</td>\n",
       "      <td>Rural</td>\n",
       "      <td>88,9</td>\n",
       "      <td>NaN</td>\n",
       "    </tr>\n",
       "    <tr>\n",
       "      <th>1</th>\n",
       "      <td>Population covered by a mobile-cellular networ...</td>\n",
       "      <td>2015.0</td>\n",
       "      <td>Low-income</td>\n",
       "      <td>Rural</td>\n",
       "      <td>67,1</td>\n",
       "      <td>NaN</td>\n",
       "    </tr>\n",
       "    <tr>\n",
       "      <th>2</th>\n",
       "      <td>Population covered by a mobile-cellular networ...</td>\n",
       "      <td>2015.0</td>\n",
       "      <td>Lower-middle-income</td>\n",
       "      <td>Rural</td>\n",
       "      <td>90,1</td>\n",
       "      <td>NaN</td>\n",
       "    </tr>\n",
       "    <tr>\n",
       "      <th>3</th>\n",
       "      <td>Population covered by a mobile-cellular networ...</td>\n",
       "      <td>2015.0</td>\n",
       "      <td>Upper-middle-income</td>\n",
       "      <td>Rural</td>\n",
       "      <td>91,2</td>\n",
       "      <td>NaN</td>\n",
       "    </tr>\n",
       "    <tr>\n",
       "      <th>4</th>\n",
       "      <td>Population covered by a mobile-cellular networ...</td>\n",
       "      <td>2015.0</td>\n",
       "      <td>High-income</td>\n",
       "      <td>Rural</td>\n",
       "      <td>92,4</td>\n",
       "      <td>NaN</td>\n",
       "    </tr>\n",
       "  </tbody>\n",
       "</table>\n",
       "</div>"
      ],
      "text/plain": [
       "                                           Indicator    Year  \\\n",
       "0  Population covered by a mobile-cellular networ...  2015.0   \n",
       "1  Population covered by a mobile-cellular networ...  2015.0   \n",
       "2  Population covered by a mobile-cellular networ...  2015.0   \n",
       "3  Population covered by a mobile-cellular networ...  2015.0   \n",
       "4  Population covered by a mobile-cellular networ...  2015.0   \n",
       "\n",
       "                  Region   Zone Percentage  Real  \n",
       "0                 World   Rural       88,9   NaN  \n",
       "1            Low-income   Rural       67,1   NaN  \n",
       "2   Lower-middle-income   Rural       90,1   NaN  \n",
       "3   Upper-middle-income   Rural       91,2   NaN  \n",
       "4           High-income   Rural       92,4   NaN  "
      ]
     },
     "metadata": {},
     "output_type": "display_data"
    },
    {
     "data": {
      "text/plain": [
       "Index(['Indicator', 'Year', 'Region', 'Zone', 'Percentage', 'Real'], dtype='object')"
      ]
     },
     "metadata": {},
     "output_type": "display_data"
    }
   ],
   "source": [
    "# Vérification rapide de la structure\n",
    "print(\"Dimensions :\", df.shape)\n",
    "print(df.dtypes)\n",
    "display(df.head())\n",
    "\n",
    "display(df.columns)"
   ]
  },
  {
   "cell_type": "code",
   "execution_count": null,
   "id": "2567630a",
   "metadata": {},
   "outputs": [
    {
     "name": "stdout",
     "output_type": "stream",
     "text": [
      "Aperçu des données :\n"
     ]
    },
    {
     "data": {
      "text/html": [
       "<div>\n",
       "<style scoped>\n",
       "    .dataframe tbody tr th:only-of-type {\n",
       "        vertical-align: middle;\n",
       "    }\n",
       "\n",
       "    .dataframe tbody tr th {\n",
       "        vertical-align: top;\n",
       "    }\n",
       "\n",
       "    .dataframe thead th {\n",
       "        text-align: right;\n",
       "    }\n",
       "</style>\n",
       "<table border=\"1\" class=\"dataframe\">\n",
       "  <thead>\n",
       "    <tr style=\"text-align: right;\">\n",
       "      <th></th>\n",
       "      <th>Indicator</th>\n",
       "      <th>Year</th>\n",
       "      <th>Region</th>\n",
       "      <th>Zone</th>\n",
       "      <th>Percentage</th>\n",
       "      <th>Real</th>\n",
       "    </tr>\n",
       "  </thead>\n",
       "  <tbody>\n",
       "    <tr>\n",
       "      <th>0</th>\n",
       "      <td>Population covered by a mobile-cellular networ...</td>\n",
       "      <td>2015.0</td>\n",
       "      <td>World</td>\n",
       "      <td>Rural</td>\n",
       "      <td>88,9</td>\n",
       "      <td>NaN</td>\n",
       "    </tr>\n",
       "    <tr>\n",
       "      <th>1</th>\n",
       "      <td>Population covered by a mobile-cellular networ...</td>\n",
       "      <td>2015.0</td>\n",
       "      <td>Low-income</td>\n",
       "      <td>Rural</td>\n",
       "      <td>67,1</td>\n",
       "      <td>NaN</td>\n",
       "    </tr>\n",
       "    <tr>\n",
       "      <th>2</th>\n",
       "      <td>Population covered by a mobile-cellular networ...</td>\n",
       "      <td>2015.0</td>\n",
       "      <td>Lower-middle-income</td>\n",
       "      <td>Rural</td>\n",
       "      <td>90,1</td>\n",
       "      <td>NaN</td>\n",
       "    </tr>\n",
       "    <tr>\n",
       "      <th>3</th>\n",
       "      <td>Population covered by a mobile-cellular networ...</td>\n",
       "      <td>2015.0</td>\n",
       "      <td>Upper-middle-income</td>\n",
       "      <td>Rural</td>\n",
       "      <td>91,2</td>\n",
       "      <td>NaN</td>\n",
       "    </tr>\n",
       "    <tr>\n",
       "      <th>4</th>\n",
       "      <td>Population covered by a mobile-cellular networ...</td>\n",
       "      <td>2015.0</td>\n",
       "      <td>High-income</td>\n",
       "      <td>Rural</td>\n",
       "      <td>92,4</td>\n",
       "      <td>NaN</td>\n",
       "    </tr>\n",
       "  </tbody>\n",
       "</table>\n",
       "</div>"
      ],
      "text/plain": [
       "                                           Indicator    Year  \\\n",
       "0  Population covered by a mobile-cellular networ...  2015.0   \n",
       "1  Population covered by a mobile-cellular networ...  2015.0   \n",
       "2  Population covered by a mobile-cellular networ...  2015.0   \n",
       "3  Population covered by a mobile-cellular networ...  2015.0   \n",
       "4  Population covered by a mobile-cellular networ...  2015.0   \n",
       "\n",
       "                  Region   Zone Percentage  Real  \n",
       "0                 World   Rural       88,9   NaN  \n",
       "1            Low-income   Rural       67,1   NaN  \n",
       "2   Lower-middle-income   Rural       90,1   NaN  \n",
       "3   Upper-middle-income   Rural       91,2   NaN  \n",
       "4           High-income   Rural       92,4   NaN  "
      ]
     },
     "metadata": {},
     "output_type": "display_data"
    },
    {
     "name": "stdout",
     "output_type": "stream",
     "text": [
      "\n",
      "Informations sur le dataset :\n",
      "<class 'pandas.core.frame.DataFrame'>\n",
      "RangeIndex: 1262 entries, 0 to 1261\n",
      "Data columns (total 6 columns):\n",
      " #   Column      Non-Null Count  Dtype  \n",
      "---  ------      --------------  -----  \n",
      " 0   Indicator   1260 non-null   object \n",
      " 1   Year        1260 non-null   float64\n",
      " 2   Region      1260 non-null   object \n",
      " 3   Zone        1260 non-null   object \n",
      " 4   Percentage  1260 non-null   object \n",
      " 5   Real        0 non-null      float64\n",
      "dtypes: float64(2), object(4)\n",
      "memory usage: 59.3+ KB\n"
     ]
    },
    {
     "data": {
      "text/plain": [
       "None"
      ]
     },
     "metadata": {},
     "output_type": "display_data"
    },
    {
     "name": "stdout",
     "output_type": "stream",
     "text": [
      "\n",
      "Statistiques descriptives :\n"
     ]
    },
    {
     "data": {
      "text/html": [
       "<div>\n",
       "<style scoped>\n",
       "    .dataframe tbody tr th:only-of-type {\n",
       "        vertical-align: middle;\n",
       "    }\n",
       "\n",
       "    .dataframe tbody tr th {\n",
       "        vertical-align: top;\n",
       "    }\n",
       "\n",
       "    .dataframe thead th {\n",
       "        text-align: right;\n",
       "    }\n",
       "</style>\n",
       "<table border=\"1\" class=\"dataframe\">\n",
       "  <thead>\n",
       "    <tr style=\"text-align: right;\">\n",
       "      <th></th>\n",
       "      <th>Year</th>\n",
       "      <th>Real</th>\n",
       "    </tr>\n",
       "  </thead>\n",
       "  <tbody>\n",
       "    <tr>\n",
       "      <th>count</th>\n",
       "      <td>1260.000000</td>\n",
       "      <td>0.0</td>\n",
       "    </tr>\n",
       "    <tr>\n",
       "      <th>mean</th>\n",
       "      <td>2019.500000</td>\n",
       "      <td>NaN</td>\n",
       "    </tr>\n",
       "    <tr>\n",
       "      <th>std</th>\n",
       "      <td>2.873422</td>\n",
       "      <td>NaN</td>\n",
       "    </tr>\n",
       "    <tr>\n",
       "      <th>min</th>\n",
       "      <td>2015.000000</td>\n",
       "      <td>NaN</td>\n",
       "    </tr>\n",
       "    <tr>\n",
       "      <th>25%</th>\n",
       "      <td>2017.000000</td>\n",
       "      <td>NaN</td>\n",
       "    </tr>\n",
       "    <tr>\n",
       "      <th>50%</th>\n",
       "      <td>2019.500000</td>\n",
       "      <td>NaN</td>\n",
       "    </tr>\n",
       "    <tr>\n",
       "      <th>75%</th>\n",
       "      <td>2022.000000</td>\n",
       "      <td>NaN</td>\n",
       "    </tr>\n",
       "    <tr>\n",
       "      <th>max</th>\n",
       "      <td>2024.000000</td>\n",
       "      <td>NaN</td>\n",
       "    </tr>\n",
       "  </tbody>\n",
       "</table>\n",
       "</div>"
      ],
      "text/plain": [
       "              Year  Real\n",
       "count  1260.000000   0.0\n",
       "mean   2019.500000   NaN\n",
       "std       2.873422   NaN\n",
       "min    2015.000000   NaN\n",
       "25%    2017.000000   NaN\n",
       "50%    2019.500000   NaN\n",
       "75%    2022.000000   NaN\n",
       "max    2024.000000   NaN"
      ]
     },
     "metadata": {},
     "output_type": "display_data"
    },
    {
     "name": "stdout",
     "output_type": "stream",
     "text": [
      "\n",
      "Valeurs manquantes par colonne :\n"
     ]
    },
    {
     "data": {
      "text/plain": [
       "Indicator        2\n",
       "Year             2\n",
       "Region           2\n",
       "Zone             2\n",
       "Percentage       2\n",
       "Real          1262\n",
       "dtype: int64"
      ]
     },
     "metadata": {},
     "output_type": "display_data"
    }
   ],
   "source": [
    "def clean_numeric(value):\n",
    "    if isinstance(value, str):\n",
    "        return float(value.replace(',', '.'))\n",
    "    return value\n",
    "\n",
    "\n",
    "# Affichage des premières lignes pour vérification\n",
    "print(\"Aperçu des données :\")\n",
    "display(df.head())\n",
    "\n",
    "# ### 2.2 Analyse préliminaire des données\n",
    "\n",
    "# Informations générales sur le dataset\n",
    "print(\"\\nInformations sur le dataset :\")\n",
    "display(df.info())\n",
    "\n",
    "# Description statistique des données numériques\n",
    "print(\"\\nStatistiques descriptives :\")\n",
    "display(df.describe())\n",
    "\n"
   ]
  },
  {
   "cell_type": "code",
   "execution_count": 38,
   "id": "64f9295f",
   "metadata": {},
   "outputs": [],
   "source": [
    "def clean_numeric(value):\n",
    "\tif isinstance(value, str):\n",
    "\t\tvalue = value.strip()\n",
    "\t\tif value.lower() in ['n/a', 'na', ' n/a ']:\n",
    "\t\t\treturn np.nan\n",
    "\t\ttry:\n",
    "\t\t\treturn float(value.replace(',', '.'))\n",
    "\t\texcept ValueError:\n",
    "\t\t\treturn np.nan\n",
    "\treturn value\n",
    "\n",
    "df['Percentage'] = df['Percentage'].apply(clean_numeric)"
   ]
  },
  {
   "cell_type": "code",
   "execution_count": 40,
   "id": "ad0f5f48",
   "metadata": {},
   "outputs": [
    {
     "data": {
      "text/plain": [
       "0    88.9\n",
       "1    67.1\n",
       "2    90.1\n",
       "3    91.2\n",
       "4    92.4\n",
       "Name: Percentage, dtype: float64"
      ]
     },
     "metadata": {},
     "output_type": "display_data"
    },
    {
     "name": "stdout",
     "output_type": "stream",
     "text": [
      "\n",
      "Valeurs manquantes par colonne :\n"
     ]
    },
    {
     "data": {
      "text/plain": [
       "Indicator        2\n",
       "Year             2\n",
       "Region           2\n",
       "Zone             2\n",
       "Percentage     243\n",
       "Real          1262\n",
       "dtype: int64"
      ]
     },
     "metadata": {},
     "output_type": "display_data"
    }
   ],
   "source": [
    "display(df['Percentage'].head())\n",
    "print(\"\\nValeurs manquantes par colonne :\")\n",
    "display(df.isnull().sum())"
   ]
  },
  {
   "cell_type": "code",
   "execution_count": 41,
   "id": "86e087c4",
   "metadata": {
    "vscode": {
     "languageId": "ruby"
    }
   },
   "outputs": [
    {
     "name": "stdout",
     "output_type": "stream",
     "text": [
      "Nombre de valeurs manquantes dans 'Percentage' avant traitement: 243\n",
      "Nombre de valeurs manquantes dans 'Percentage' après traitement: 0\n",
      "Moyenne globale utilisée pour les remplacements restants: 76.82\n",
      "\n",
      "Tableau pivot des pourcentages par région, zone et indicateur:\n"
     ]
    },
    {
     "name": "stderr",
     "output_type": "stream",
     "text": [
      "C:\\Users\\Adrien\\AppData\\Local\\Temp\\ipykernel_37552\\1576980057.py:12: FutureWarning: A value is trying to be set on a copy of a DataFrame or Series through chained assignment using an inplace method.\n",
      "The behavior will change in pandas 3.0. This inplace method will never work because the intermediate object on which we are setting values always behaves as a copy.\n",
      "\n",
      "For example, when doing 'df[col].method(value, inplace=True)', try using 'df.method({col: value}, inplace=True)' or df[col] = df[col].method(value) instead, to perform the operation inplace on the original object.\n",
      "\n",
      "\n",
      "  df['Percentage'].fillna(indicator_year_means, inplace=True)\n",
      "C:\\Users\\Adrien\\AppData\\Local\\Temp\\ipykernel_37552\\1576980057.py:17: FutureWarning: A value is trying to be set on a copy of a DataFrame or Series through chained assignment using an inplace method.\n",
      "The behavior will change in pandas 3.0. This inplace method will never work because the intermediate object on which we are setting values always behaves as a copy.\n",
      "\n",
      "For example, when doing 'df[col].method(value, inplace=True)', try using 'df.method({col: value}, inplace=True)' or df[col] = df[col].method(value) instead, to perform the operation inplace on the original object.\n",
      "\n",
      "\n",
      "  df['Percentage'].fillna(mean_value, inplace=True)\n"
     ]
    },
    {
     "data": {
      "text/html": [
       "<div>\n",
       "<style scoped>\n",
       "    .dataframe tbody tr th:only-of-type {\n",
       "        vertical-align: middle;\n",
       "    }\n",
       "\n",
       "    .dataframe tbody tr th {\n",
       "        vertical-align: top;\n",
       "    }\n",
       "\n",
       "    .dataframe thead th {\n",
       "        text-align: right;\n",
       "    }\n",
       "</style>\n",
       "<table border=\"1\" class=\"dataframe\">\n",
       "  <thead>\n",
       "    <tr style=\"text-align: right;\">\n",
       "      <th></th>\n",
       "      <th></th>\n",
       "      <th>Year</th>\n",
       "      <th>2015.0</th>\n",
       "      <th>2016.0</th>\n",
       "      <th>2017.0</th>\n",
       "      <th>2018.0</th>\n",
       "      <th>2019.0</th>\n",
       "      <th>2020.0</th>\n",
       "      <th>2021.0</th>\n",
       "      <th>2022.0</th>\n",
       "      <th>2023.0</th>\n",
       "      <th>2024.0</th>\n",
       "    </tr>\n",
       "    <tr>\n",
       "      <th>Region</th>\n",
       "      <th>Zone</th>\n",
       "      <th>Indicator</th>\n",
       "      <th></th>\n",
       "      <th></th>\n",
       "      <th></th>\n",
       "      <th></th>\n",
       "      <th></th>\n",
       "      <th></th>\n",
       "      <th></th>\n",
       "      <th></th>\n",
       "      <th></th>\n",
       "      <th></th>\n",
       "    </tr>\n",
       "  </thead>\n",
       "  <tbody>\n",
       "    <tr>\n",
       "      <th rowspan=\"3\" valign=\"top\">Africa</th>\n",
       "      <th>Rural</th>\n",
       "      <th>Population covered by at least a 3G mobile network (%)</th>\n",
       "      <td>29.7</td>\n",
       "      <td>37.4</td>\n",
       "      <td>42.0</td>\n",
       "      <td>53.1</td>\n",
       "      <td>59.1</td>\n",
       "      <td>59.2</td>\n",
       "      <td>64.2</td>\n",
       "      <td>68.5</td>\n",
       "      <td>73.7</td>\n",
       "      <td>75.0</td>\n",
       "    </tr>\n",
       "    <tr>\n",
       "      <th>Total</th>\n",
       "      <th>Population covered by at least a 3G mobile network (%)</th>\n",
       "      <td>49.6</td>\n",
       "      <td>57.5</td>\n",
       "      <td>62.6</td>\n",
       "      <td>70.3</td>\n",
       "      <td>73.7</td>\n",
       "      <td>75.9</td>\n",
       "      <td>79.1</td>\n",
       "      <td>81.9</td>\n",
       "      <td>85.0</td>\n",
       "      <td>85.9</td>\n",
       "    </tr>\n",
       "    <tr>\n",
       "      <th>Urban</th>\n",
       "      <th>Population covered by at least a 3G mobile network (%)</th>\n",
       "      <td>86.1</td>\n",
       "      <td>92.8</td>\n",
       "      <td>94.1</td>\n",
       "      <td>95.6</td>\n",
       "      <td>96.9</td>\n",
       "      <td>99.4</td>\n",
       "      <td>99.8</td>\n",
       "      <td>99.8</td>\n",
       "      <td>99.9</td>\n",
       "      <td>99.9</td>\n",
       "    </tr>\n",
       "    <tr>\n",
       "      <th rowspan=\"2\" valign=\"top\">Americas</th>\n",
       "      <th>Rural</th>\n",
       "      <th>Population covered by at least a 3G mobile network (%)</th>\n",
       "      <td>65.1</td>\n",
       "      <td>69.5</td>\n",
       "      <td>72.0</td>\n",
       "      <td>72.5</td>\n",
       "      <td>73.0</td>\n",
       "      <td>72.2</td>\n",
       "      <td>72.2</td>\n",
       "      <td>75.7</td>\n",
       "      <td>76.5</td>\n",
       "      <td>76.4</td>\n",
       "    </tr>\n",
       "    <tr>\n",
       "      <th>Total</th>\n",
       "      <th>Population covered by at least a 3G mobile network (%)</th>\n",
       "      <td>91.4</td>\n",
       "      <td>92.8</td>\n",
       "      <td>94.0</td>\n",
       "      <td>94.7</td>\n",
       "      <td>94.5</td>\n",
       "      <td>94.6</td>\n",
       "      <td>94.7</td>\n",
       "      <td>95.4</td>\n",
       "      <td>95.6</td>\n",
       "      <td>95.7</td>\n",
       "    </tr>\n",
       "  </tbody>\n",
       "</table>\n",
       "</div>"
      ],
      "text/plain": [
       "Year                                                                2015.0  \\\n",
       "Region    Zone  Indicator                                                    \n",
       "Africa    Rural Population covered by at least a 3G mobile netw...    29.7   \n",
       "          Total Population covered by at least a 3G mobile netw...    49.6   \n",
       "          Urban Population covered by at least a 3G mobile netw...    86.1   \n",
       "Americas  Rural Population covered by at least a 3G mobile netw...    65.1   \n",
       "          Total Population covered by at least a 3G mobile netw...    91.4   \n",
       "\n",
       "Year                                                                2016.0  \\\n",
       "Region    Zone  Indicator                                                    \n",
       "Africa    Rural Population covered by at least a 3G mobile netw...    37.4   \n",
       "          Total Population covered by at least a 3G mobile netw...    57.5   \n",
       "          Urban Population covered by at least a 3G mobile netw...    92.8   \n",
       "Americas  Rural Population covered by at least a 3G mobile netw...    69.5   \n",
       "          Total Population covered by at least a 3G mobile netw...    92.8   \n",
       "\n",
       "Year                                                                2017.0  \\\n",
       "Region    Zone  Indicator                                                    \n",
       "Africa    Rural Population covered by at least a 3G mobile netw...    42.0   \n",
       "          Total Population covered by at least a 3G mobile netw...    62.6   \n",
       "          Urban Population covered by at least a 3G mobile netw...    94.1   \n",
       "Americas  Rural Population covered by at least a 3G mobile netw...    72.0   \n",
       "          Total Population covered by at least a 3G mobile netw...    94.0   \n",
       "\n",
       "Year                                                                2018.0  \\\n",
       "Region    Zone  Indicator                                                    \n",
       "Africa    Rural Population covered by at least a 3G mobile netw...    53.1   \n",
       "          Total Population covered by at least a 3G mobile netw...    70.3   \n",
       "          Urban Population covered by at least a 3G mobile netw...    95.6   \n",
       "Americas  Rural Population covered by at least a 3G mobile netw...    72.5   \n",
       "          Total Population covered by at least a 3G mobile netw...    94.7   \n",
       "\n",
       "Year                                                                2019.0  \\\n",
       "Region    Zone  Indicator                                                    \n",
       "Africa    Rural Population covered by at least a 3G mobile netw...    59.1   \n",
       "          Total Population covered by at least a 3G mobile netw...    73.7   \n",
       "          Urban Population covered by at least a 3G mobile netw...    96.9   \n",
       "Americas  Rural Population covered by at least a 3G mobile netw...    73.0   \n",
       "          Total Population covered by at least a 3G mobile netw...    94.5   \n",
       "\n",
       "Year                                                                2020.0  \\\n",
       "Region    Zone  Indicator                                                    \n",
       "Africa    Rural Population covered by at least a 3G mobile netw...    59.2   \n",
       "          Total Population covered by at least a 3G mobile netw...    75.9   \n",
       "          Urban Population covered by at least a 3G mobile netw...    99.4   \n",
       "Americas  Rural Population covered by at least a 3G mobile netw...    72.2   \n",
       "          Total Population covered by at least a 3G mobile netw...    94.6   \n",
       "\n",
       "Year                                                                2021.0  \\\n",
       "Region    Zone  Indicator                                                    \n",
       "Africa    Rural Population covered by at least a 3G mobile netw...    64.2   \n",
       "          Total Population covered by at least a 3G mobile netw...    79.1   \n",
       "          Urban Population covered by at least a 3G mobile netw...    99.8   \n",
       "Americas  Rural Population covered by at least a 3G mobile netw...    72.2   \n",
       "          Total Population covered by at least a 3G mobile netw...    94.7   \n",
       "\n",
       "Year                                                                2022.0  \\\n",
       "Region    Zone  Indicator                                                    \n",
       "Africa    Rural Population covered by at least a 3G mobile netw...    68.5   \n",
       "          Total Population covered by at least a 3G mobile netw...    81.9   \n",
       "          Urban Population covered by at least a 3G mobile netw...    99.8   \n",
       "Americas  Rural Population covered by at least a 3G mobile netw...    75.7   \n",
       "          Total Population covered by at least a 3G mobile netw...    95.4   \n",
       "\n",
       "Year                                                                2023.0  \\\n",
       "Region    Zone  Indicator                                                    \n",
       "Africa    Rural Population covered by at least a 3G mobile netw...    73.7   \n",
       "          Total Population covered by at least a 3G mobile netw...    85.0   \n",
       "          Urban Population covered by at least a 3G mobile netw...    99.9   \n",
       "Americas  Rural Population covered by at least a 3G mobile netw...    76.5   \n",
       "          Total Population covered by at least a 3G mobile netw...    95.6   \n",
       "\n",
       "Year                                                                2024.0  \n",
       "Region    Zone  Indicator                                                   \n",
       "Africa    Rural Population covered by at least a 3G mobile netw...    75.0  \n",
       "          Total Population covered by at least a 3G mobile netw...    85.9  \n",
       "          Urban Population covered by at least a 3G mobile netw...    99.9  \n",
       "Americas  Rural Population covered by at least a 3G mobile netw...    76.4  \n",
       "          Total Population covered by at least a 3G mobile netw...    95.7  "
      ]
     },
     "metadata": {},
     "output_type": "display_data"
    }
   ],
   "source": [
    "# 2.3 Traitement des valeurs manquantes dans la colonne 'Percentage'\n",
    "\n",
    "# Vérification des valeurs manquantes avant le remplacement\n",
    "null_values_before = df.isnull().sum()\n",
    "n_missing_before = df['Percentage'].isnull().sum()\n",
    "print(f\"Nombre de valeurs manquantes dans 'Percentage' avant traitement: {n_missing_before}\")\n",
    "\n",
    "# Calcul des moyennes par Indicateur et Année\n",
    "indicator_year_means = df.groupby(['Indicator', 'Year'])['Percentage'].transform('mean')\n",
    "\n",
    "# Remplacement des valeurs manquantes par la moyenne de l'indicateur et de l'année correspondante\n",
    "df['Percentage'].fillna(indicator_year_means, inplace=True)\n",
    "\n",
    "# Si des valeurs restent manquantes (ex: si l'indicateur entier pour une année n'a pas de valeur),\n",
    "# les remplacer par la moyenne globale\n",
    "mean_value = df['Percentage'].mean()\n",
    "df['Percentage'].fillna(mean_value, inplace=True)\n",
    "\n",
    "# Vérification après remplacement\n",
    "null_values_after = df.isnull().sum()\n",
    "n_missing_after = df['Percentage'].isnull().sum()\n",
    "print(f\"Nombre de valeurs manquantes dans 'Percentage' après traitement: {n_missing_after}\")\n",
    "print(f\"Moyenne globale utilisée pour les remplacements restants: {mean_value:.2f}\")\n",
    "\n",
    "# Créer un tableau pivot pour visualiser les données par région, zone et indicateur\n",
    "pivot_df = df.pivot_table(index=['Region', 'Zone', 'Indicator'], \n",
    "                         columns='Year', \n",
    "                         values='Percentage')\n",
    "\n",
    "# Afficher un aperçu du tableau pivot\n",
    "print(\"\\nTableau pivot des pourcentages par région, zone et indicateur:\")\n",
    "display(pivot_df.head())"
   ]
  },
  {
   "cell_type": "code",
   "execution_count": null,
   "id": "92f868ec",
   "metadata": {},
   "outputs": [
    {
     "name": "stdout",
     "output_type": "stream",
     "text": [
      "Valeurs manquantes avant imputation : 0\n"
     ]
    }
   ],
   "source": [
    "\n",
    "\n"
   ]
  },
  {
   "cell_type": "code",
   "execution_count": null,
   "id": "a87c621a",
   "metadata": {},
   "outputs": [
    {
     "data": {
      "text/plain": [
       "0    nan\n",
       "1    nan\n",
       "2    nan\n",
       "3    nan\n",
       "4    nan\n",
       "Name: Percentage, dtype: object"
      ]
     },
     "metadata": {},
     "output_type": "display_data"
    },
    {
     "name": "stdout",
     "output_type": "stream",
     "text": [
      "Valeurs manquantes avant imputation : 1103\n"
     ]
    }
   ],
   "source": [
    "\n",
    "\n"
   ]
  },
  {
   "cell_type": "code",
   "execution_count": null,
   "id": "f401c70f",
   "metadata": {},
   "outputs": [
    {
     "data": {
      "text/html": [
       "<div>\n",
       "<style scoped>\n",
       "    .dataframe tbody tr th:only-of-type {\n",
       "        vertical-align: middle;\n",
       "    }\n",
       "\n",
       "    .dataframe tbody tr th {\n",
       "        vertical-align: top;\n",
       "    }\n",
       "\n",
       "    .dataframe thead th {\n",
       "        text-align: right;\n",
       "    }\n",
       "</style>\n",
       "<table border=\"1\" class=\"dataframe\">\n",
       "  <thead>\n",
       "    <tr style=\"text-align: right;\">\n",
       "      <th></th>\n",
       "      <th>Indicator</th>\n",
       "      <th>Year</th>\n",
       "      <th>Region</th>\n",
       "      <th>Zone</th>\n",
       "      <th>Percentage</th>\n",
       "      <th>Real</th>\n",
       "    </tr>\n",
       "  </thead>\n",
       "  <tbody>\n",
       "    <tr>\n",
       "      <th>0</th>\n",
       "      <td>Population covered by a mobile-cellular networ...</td>\n",
       "      <td>2015.0</td>\n",
       "      <td>World</td>\n",
       "      <td>Rural</td>\n",
       "      <td>NaN</td>\n",
       "      <td>NaN</td>\n",
       "    </tr>\n",
       "    <tr>\n",
       "      <th>1</th>\n",
       "      <td>Population covered by a mobile-cellular networ...</td>\n",
       "      <td>2015.0</td>\n",
       "      <td>Low-income</td>\n",
       "      <td>Rural</td>\n",
       "      <td>NaN</td>\n",
       "      <td>NaN</td>\n",
       "    </tr>\n",
       "    <tr>\n",
       "      <th>2</th>\n",
       "      <td>Population covered by a mobile-cellular networ...</td>\n",
       "      <td>2015.0</td>\n",
       "      <td>Lower-middle-income</td>\n",
       "      <td>Rural</td>\n",
       "      <td>NaN</td>\n",
       "      <td>NaN</td>\n",
       "    </tr>\n",
       "    <tr>\n",
       "      <th>3</th>\n",
       "      <td>Population covered by a mobile-cellular networ...</td>\n",
       "      <td>2015.0</td>\n",
       "      <td>Upper-middle-income</td>\n",
       "      <td>Rural</td>\n",
       "      <td>NaN</td>\n",
       "      <td>NaN</td>\n",
       "    </tr>\n",
       "    <tr>\n",
       "      <th>4</th>\n",
       "      <td>Population covered by a mobile-cellular networ...</td>\n",
       "      <td>2015.0</td>\n",
       "      <td>High-income</td>\n",
       "      <td>Rural</td>\n",
       "      <td>NaN</td>\n",
       "      <td>NaN</td>\n",
       "    </tr>\n",
       "  </tbody>\n",
       "</table>\n",
       "</div>"
      ],
      "text/plain": [
       "                                           Indicator    Year  \\\n",
       "0  Population covered by a mobile-cellular networ...  2015.0   \n",
       "1  Population covered by a mobile-cellular networ...  2015.0   \n",
       "2  Population covered by a mobile-cellular networ...  2015.0   \n",
       "3  Population covered by a mobile-cellular networ...  2015.0   \n",
       "4  Population covered by a mobile-cellular networ...  2015.0   \n",
       "\n",
       "                  Region   Zone  Percentage  Real  \n",
       "0                 World   Rural         NaN   NaN  \n",
       "1            Low-income   Rural         NaN   NaN  \n",
       "2   Lower-middle-income   Rural         NaN   NaN  \n",
       "3   Upper-middle-income   Rural         NaN   NaN  \n",
       "4           High-income   Rural         NaN   NaN  "
      ]
     },
     "metadata": {},
     "output_type": "display_data"
    }
   ],
   "source": []
  },
  {
   "cell_type": "code",
   "execution_count": null,
   "id": "106a4fb9",
   "metadata": {},
   "outputs": [
    {
     "name": "stdout",
     "output_type": "stream",
     "text": [
      "Valeurs manquantes après imputation : 0\n"
     ]
    }
   ],
   "source": []
  },
  {
   "cell_type": "code",
   "execution_count": 18,
   "id": "0c12ce10",
   "metadata": {},
   "outputs": [
    {
     "data": {
      "text/html": [
       "<div>\n",
       "<style scoped>\n",
       "    .dataframe tbody tr th:only-of-type {\n",
       "        vertical-align: middle;\n",
       "    }\n",
       "\n",
       "    .dataframe tbody tr th {\n",
       "        vertical-align: top;\n",
       "    }\n",
       "\n",
       "    .dataframe thead th {\n",
       "        text-align: right;\n",
       "    }\n",
       "</style>\n",
       "<table border=\"1\" class=\"dataframe\">\n",
       "  <thead>\n",
       "    <tr style=\"text-align: right;\">\n",
       "      <th></th>\n",
       "      <th>Indicator</th>\n",
       "      <th>Year</th>\n",
       "      <th>Region</th>\n",
       "      <th>Zone</th>\n",
       "      <th>Percentage</th>\n",
       "      <th>Real</th>\n",
       "    </tr>\n",
       "  </thead>\n",
       "  <tbody>\n",
       "    <tr>\n",
       "      <th>0</th>\n",
       "      <td>Population covered by a mobile-cellular networ...</td>\n",
       "      <td>2015.0</td>\n",
       "      <td>World</td>\n",
       "      <td>Rural</td>\n",
       "      <td>90.836478</td>\n",
       "      <td>NaN</td>\n",
       "    </tr>\n",
       "    <tr>\n",
       "      <th>1</th>\n",
       "      <td>Population covered by a mobile-cellular networ...</td>\n",
       "      <td>2015.0</td>\n",
       "      <td>Low-income</td>\n",
       "      <td>Rural</td>\n",
       "      <td>90.836478</td>\n",
       "      <td>NaN</td>\n",
       "    </tr>\n",
       "    <tr>\n",
       "      <th>2</th>\n",
       "      <td>Population covered by a mobile-cellular networ...</td>\n",
       "      <td>2015.0</td>\n",
       "      <td>Lower-middle-income</td>\n",
       "      <td>Rural</td>\n",
       "      <td>90.836478</td>\n",
       "      <td>NaN</td>\n",
       "    </tr>\n",
       "    <tr>\n",
       "      <th>3</th>\n",
       "      <td>Population covered by a mobile-cellular networ...</td>\n",
       "      <td>2015.0</td>\n",
       "      <td>Upper-middle-income</td>\n",
       "      <td>Rural</td>\n",
       "      <td>90.836478</td>\n",
       "      <td>NaN</td>\n",
       "    </tr>\n",
       "    <tr>\n",
       "      <th>4</th>\n",
       "      <td>Population covered by a mobile-cellular networ...</td>\n",
       "      <td>2015.0</td>\n",
       "      <td>High-income</td>\n",
       "      <td>Rural</td>\n",
       "      <td>90.836478</td>\n",
       "      <td>NaN</td>\n",
       "    </tr>\n",
       "  </tbody>\n",
       "</table>\n",
       "</div>"
      ],
      "text/plain": [
       "                                           Indicator    Year  \\\n",
       "0  Population covered by a mobile-cellular networ...  2015.0   \n",
       "1  Population covered by a mobile-cellular networ...  2015.0   \n",
       "2  Population covered by a mobile-cellular networ...  2015.0   \n",
       "3  Population covered by a mobile-cellular networ...  2015.0   \n",
       "4  Population covered by a mobile-cellular networ...  2015.0   \n",
       "\n",
       "                  Region   Zone  Percentage  Real  \n",
       "0                 World   Rural   90.836478   NaN  \n",
       "1            Low-income   Rural   90.836478   NaN  \n",
       "2   Lower-middle-income   Rural   90.836478   NaN  \n",
       "3   Upper-middle-income   Rural   90.836478   NaN  \n",
       "4           High-income   Rural   90.836478   NaN  "
      ]
     },
     "metadata": {},
     "output_type": "display_data"
    }
   ],
   "source": [
    "display(df.head())"
   ]
  },
  {
   "cell_type": "code",
   "execution_count": 17,
   "id": "3fc1b686",
   "metadata": {},
   "outputs": [
    {
     "name": "stdout",
     "output_type": "stream",
     "text": [
      "Statistiques descriptives de Percentage :\n",
      " count    1262.000000\n",
      "mean       90.836478\n",
      "std         7.978249\n",
      "min         1.000000\n",
      "25%        90.836478\n",
      "50%        90.836478\n",
      "75%        90.836478\n",
      "max       100.000000\n",
      "Name: Percentage, dtype: float64\n"
     ]
    },
    {
     "data": {
      "image/png": "[encoded data removed]",
      "text/plain": [
       "<Figure size 800x500 with 1 Axes>"
      ]
     },
     "metadata": {},
     "output_type": "display_data"
    }
   ],
   "source": [
    "# 3.1 Statistiques descriptives de la variable cible ‘Percentage’\n",
    "desc = df['Percentage'].describe()\n",
    "print(\"Statistiques descriptives de Percentage :\\n\", desc)\n",
    "\n",
    "# 3.2 Histogramme de distribution du pourcentage de couverture mobile\n",
    "plt.figure(figsize=(8, 5))\n",
    "df['Percentage'].hist(bins=20)\n",
    "plt.title('Histogramme du % de couverture mobile')\n",
    "plt.xlabel('Percentage')\n",
    "plt.ylabel('Fréquence')\n",
    "plt.grid(axis='y', linestyle='--', alpha=0.5)\n",
    "plt.show()"
   ]
  },
  {
   "cell_type": "code",
   "execution_count": null,
   "id": "f8c04bbe",
   "metadata": {},
   "outputs": [],
   "source": [
    "\n"
   ]
  },
  {
   "cell_type": "code",
   "execution_count": null,
   "id": "87656de8",
   "metadata": {},
   "outputs": [],
   "source": [
    "\n"
   ]
  },
  {
   "cell_type": "code",
   "execution_count": null,
   "id": "99f73583",
   "metadata": {},
   "outputs": [],
   "source": [
    "\n"
   ]
  },
  {
   "cell_type": "code",
   "execution_count": null,
   "id": "9fd4950a",
   "metadata": {},
   "outputs": [],
   "source": [
    "\n",
    "\n"
   ]
  },
  {
   "cell_type": "code",
   "execution_count": null,
   "id": "dc01ac2e",
   "metadata": {},
   "outputs": [],
   "source": []
  }
 ],
 "metadata": {
  "kernelspec": {
   "display_name": "Nom que tu veux voir dans VS Code",
   "language": "python",
   "name": "nom_de_ton_env"
  },
  "language_info": {
   "codemirror_mode": {
    "name": "ipython",
    "version": 3
   },
   "file_extension": ".py",
   "mimetype": "text/x-python",
   "name": "python",
   "nbconvert_exporter": "python",
   "pygments_lexer": "ipython3",
   "version": "3.12.7"
  }
 },
 "nbformat": 4,
 "nbformat_minor": 5
}
